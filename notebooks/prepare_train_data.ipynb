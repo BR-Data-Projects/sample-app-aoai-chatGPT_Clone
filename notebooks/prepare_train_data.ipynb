{
 "cells": [
  {
   "cell_type": "code",
   "execution_count": 3,
   "id": "c60513e2-8a26-40cf-ab49-16a52a7862d4",
   "metadata": {},
   "outputs": [],
   "source": [
    "import pandas as pd\n",
    "import sys\n",
    "import json\n",
    "import os"
   ]
  },
  {
   "cell_type": "code",
   "execution_count": 4,
   "id": "81bbc81e-c3f7-494e-8e33-cc7a657fe315",
   "metadata": {},
   "outputs": [],
   "source": [
    "sys.path.append(os.path.dirname(os.getcwd())) "
   ]
  },
  {
   "cell_type": "code",
   "execution_count": 5,
   "id": "e915bb2e-04c7-43ea-b11b-81d39b1f912c",
   "metadata": {},
   "outputs": [],
   "source": [
    "df = pd.read_csv(\"../data/raw_data.csv\")"
   ]
  },
  {
   "cell_type": "code",
   "execution_count": 6,
   "id": "4ee733ca-80eb-48e1-97b3-7b1a1d902903",
   "metadata": {},
   "outputs": [
    {
     "data": {
      "text/html": [
       "<div>\n",
       "<style scoped>\n",
       "    .dataframe tbody tr th:only-of-type {\n",
       "        vertical-align: middle;\n",
       "    }\n",
       "\n",
       "    .dataframe tbody tr th {\n",
       "        vertical-align: top;\n",
       "    }\n",
       "\n",
       "    .dataframe thead th {\n",
       "        text-align: right;\n",
       "    }\n",
       "</style>\n",
       "<table border=\"1\" class=\"dataframe\">\n",
       "  <thead>\n",
       "    <tr style=\"text-align: right;\">\n",
       "      <th></th>\n",
       "      <th>Inquiry Category</th>\n",
       "      <th>Inquiry Type</th>\n",
       "      <th>Question</th>\n",
       "      <th>Response</th>\n",
       "    </tr>\n",
       "  </thead>\n",
       "  <tbody>\n",
       "    <tr>\n",
       "      <th>0</th>\n",
       "      <td>Pre-sales</td>\n",
       "      <td>Product choice</td>\n",
       "      <td>What is the difference between gray cap and bl...</td>\n",
       "      <td>Thank you for contacting us. The Black Cap is ...</td>\n",
       "    </tr>\n",
       "    <tr>\n",
       "      <th>1</th>\n",
       "      <td>Post-sales</td>\n",
       "      <td>Product Instruction</td>\n",
       "      <td>Just one question, the foils I have are signif...</td>\n",
       "      <td>The foils you ordered should fit the Nespresso...</td>\n",
       "    </tr>\n",
       "    <tr>\n",
       "      <th>2</th>\n",
       "      <td>Pre-sales</td>\n",
       "      <td>Product Details</td>\n",
       "      <td>before i buy can you tell me what kind of pape...</td>\n",
       "      <td>Hello there, \\r\\n\\r\\nThank you for writing to ...</td>\n",
       "    </tr>\n",
       "    <tr>\n",
       "      <th>3</th>\n",
       "      <td>Post-sales</td>\n",
       "      <td>Product Instruction</td>\n",
       "      <td>Hi, I bought the foil lids for the Vertuo line...</td>\n",
       "      <td>Thank you for writing to us and we're sorry to...</td>\n",
       "    </tr>\n",
       "    <tr>\n",
       "      <th>4</th>\n",
       "      <td>Pre-sales</td>\n",
       "      <td>Product choice</td>\n",
       "      <td>Please advise as to what method would be bette...</td>\n",
       "      <td>Thank you for writing to us. We would suggest ...</td>\n",
       "    </tr>\n",
       "    <tr>\n",
       "      <th>5</th>\n",
       "      <td>Pre-sales</td>\n",
       "      <td>Discount</td>\n",
       "      <td>Hi! I would love to be able to fill more discs...</td>\n",
       "      <td>Hi there, \\r\\n\\r\\nWe do offer quantity discoun...</td>\n",
       "    </tr>\n",
       "    <tr>\n",
       "      <th>6</th>\n",
       "      <td>Pre-sales</td>\n",
       "      <td>Shipping</td>\n",
       "      <td>I couldn't find your Canada sales info to buy ...</td>\n",
       "      <td>Thank you for writing to us. We do ship to Can...</td>\n",
       "    </tr>\n",
       "    <tr>\n",
       "      <th>7</th>\n",
       "      <td>Pre-sales</td>\n",
       "      <td>Shipping</td>\n",
       "      <td>Is there any shipping charge for Canadian cust...</td>\n",
       "      <td>Hello there,\\r\\n\\r\\nThank you for writing to u...</td>\n",
       "    </tr>\n",
       "    <tr>\n",
       "      <th>8</th>\n",
       "      <td>Pre-sales</td>\n",
       "      <td>Product choice</td>\n",
       "      <td>Is this pod (My-Cap Reusable Coffee Disc with ...</td>\n",
       "      <td>Hi, thank you for contacting us.\\r\\n\\r\\nYes, a...</td>\n",
       "    </tr>\n",
       "  </tbody>\n",
       "</table>\n",
       "</div>"
      ],
      "text/plain": [
       "  Inquiry Category         Inquiry Type  \\\n",
       "0        Pre-sales       Product choice   \n",
       "1       Post-sales  Product Instruction   \n",
       "2        Pre-sales      Product Details   \n",
       "3       Post-sales  Product Instruction   \n",
       "4        Pre-sales       Product choice   \n",
       "5        Pre-sales             Discount   \n",
       "6        Pre-sales             Shipping   \n",
       "7        Pre-sales             Shipping   \n",
       "8        Pre-sales       Product choice   \n",
       "\n",
       "                                            Question  \\\n",
       "0  What is the difference between gray cap and bl...   \n",
       "1  Just one question, the foils I have are signif...   \n",
       "2  before i buy can you tell me what kind of pape...   \n",
       "3  Hi, I bought the foil lids for the Vertuo line...   \n",
       "4  Please advise as to what method would be bette...   \n",
       "5  Hi! I would love to be able to fill more discs...   \n",
       "6  I couldn't find your Canada sales info to buy ...   \n",
       "7  Is there any shipping charge for Canadian cust...   \n",
       "8  Is this pod (My-Cap Reusable Coffee Disc with ...   \n",
       "\n",
       "                                            Response  \n",
       "0  Thank you for contacting us. The Black Cap is ...  \n",
       "1  The foils you ordered should fit the Nespresso...  \n",
       "2  Hello there, \\r\\n\\r\\nThank you for writing to ...  \n",
       "3  Thank you for writing to us and we're sorry to...  \n",
       "4  Thank you for writing to us. We would suggest ...  \n",
       "5  Hi there, \\r\\n\\r\\nWe do offer quantity discoun...  \n",
       "6  Thank you for writing to us. We do ship to Can...  \n",
       "7  Hello there,\\r\\n\\r\\nThank you for writing to u...  \n",
       "8  Hi, thank you for contacting us.\\r\\n\\r\\nYes, a...  "
      ]
     },
     "execution_count": 6,
     "metadata": {},
     "output_type": "execute_result"
    }
   ],
   "source": [
    "df"
   ]
  },
  {
   "cell_type": "code",
   "execution_count": 8,
   "id": "c1a5423a-90f2-4c87-83d0-6e9b2343feb7",
   "metadata": {
    "jupyter": {
     "source_hidden": true
    }
   },
   "outputs": [],
   "source": [
    "def row_to_json(row, prompt):\n",
    "    return {\n",
    "        # \"context\": prompt,\n",
    "        \"messages\": [\n",
    "            {\n",
    "                \"role\": \"system\",\n",
    "                \"content\": prompt\n",
    "            },\n",
    "            {\n",
    "                \"role\": \"user\",\n",
    "                \"content\": row[\"Question\"]\n",
    "            },\n",
    "            {\n",
    "                \"role\": \"assistant\",\n",
    "                \"content\": row[\"Response\"]\n",
    "            }\n",
    "        ]\n",
    "    }"
   ]
  },
  {
   "cell_type": "code",
   "execution_count": 11,
   "id": "91ccb95f-d56b-4d17-9e08-78d9b390a105",
   "metadata": {},
   "outputs": [],
   "source": [
    "from prompts import general_company_info, assistant_identity_context\n",
    "prompt = assistant_identity_context + general_company_info"
   ]
  },
  {
   "cell_type": "code",
   "execution_count": 12,
   "id": "a3501499-6484-4104-bbdd-b2c00d6463ff",
   "metadata": {},
   "outputs": [],
   "source": [
    "output_file_name = \"../data/azure_train.jsonl\""
   ]
  },
  {
   "cell_type": "code",
   "execution_count": 13,
   "id": "2259f9ce-67ed-4760-a7fe-604492e8dcc3",
   "metadata": {},
   "outputs": [],
   "source": [
    "with open(output_file_name, \"w\") as f:\n",
    "    for _, row in df.iterrows():\n",
    "        json_obj = row_to_json(row, prompt)\n",
    "        f.write(f\"{json.dumps(json_obj)}\\n\")"
   ]
  },
  {
   "cell_type": "code",
   "execution_count": 61,
   "id": "7e300b72-ad55-4db8-a829-88cd254bb298",
   "metadata": {},
   "outputs": [],
   "source": [
    "manual_json = {\n",
    "        # \"context\": prompt,\n",
    "        \"messages\": [\n",
    "            {\n",
    "                \"role\": \"system\",\n",
    "                \"content\": prompt\n",
    "            },\n",
    "            {\n",
    "                \"role\": \"user\",\n",
    "                \"content\": \"I would like to try out the My-Cap system but I can't figure out what I need to get from all the many options on your site. I have narrowed my search down to your company from the many other foreign companies that are offering similar systems, since you are an American company and you created this whole concept. That is why I assumed I could speak with someone in your sales department to help me figure this out! For example, why would I want the Sampler with 3 different solutions when I only want to try the most effective and environment friendly option that you recommend (I can't find any recommendations anywhere on your site!) I don't even mind calling you-if you have phones in your department-as it will probably be more effective than emailing back and forth until I figure out what I need to give it a try. Like do I get just the capsule holder by itself, or do I need caps to go with it, and which ones-foil, silicone, or paper, and if I just get the Cap & Lid, how often can I reuse my old capsules-forever? And do I need a separate holder and scoop-which I don't see sold separately. Sorry for being so annoying, but it's a little overwhelming for someone like myself-who is usually reasonably intelligent regarding most aspects of life today-but who is new to this concept-as none of my Nespresso friends are using this more cost efficient, and I hope more environment friendly system. Any advice you can offer in whatever manner works for you will be greatly appreciated, thanks!\"\n",
    "            },\n",
    "            {\n",
    "                \"role\": \"assistant\",\n",
    "                \"content\": \"Thank you for writing to us. We are a small business so we won't be able to provide support over the phone. We apologize for the inconvenience. With that said, may you tell us what machine you have? That would help narrow down the product selection. We have products that go well with different machines. Thank you! Your My-Cap Team\"\n",
    "            },\n",
    "            {\n",
    "                \"role\": \"user\",\n",
    "                \"content\": \"Thanks, I have the standard Vertuo coffee machine by De'longhi, and I appreciate your assistance here.\"\n",
    "            },\n",
    "            {\n",
    "                \"role\": \"assistant\",\n",
    "                \"content\": \"\"\"Thank you for letting us know. This helps a lot! We recommend trying the My-Cap Sampler for customers who would like to try different ways to make coffee. Our sampler is an economical and fun way to explore new reusable capsule options. Within the package, are four total reusable solutions. Find the one(s) that you like best and come back to re-order those specific products. Here are the different reusable capsule options which is also outlined in our product's description on the site as well:\n",
    "1. Our reusable silicone cap is used on a pod for an immediate cup of coffee. Add an included filter under the cap to prevent coffee grounds from entering the brew, and the result is an exceptional cup of coffee, crema or espresso.\n",
    "2. The reusable plastic cap works the same way as the reusable silicone caps, but is only compatible with the Vertuo by Breville Brewer and the Vertuo Evoluo Brewer. It is not recommended for machines with an automatic closing mechanism.\n",
    "3. My-Cap’s reusable silicone lids are great for preparing pods in advance. This air-tight lid keeps coffee grounds fresh and ready for use for 7-14 days. Add a filter, cap and lid, then remove the lid and place the pod in the machine when ready to begin brewing.\n",
    "4. Save money by easily creating your own coffee pods with My-Cap foils. Simply adhere a My-Cap foil to the top of a pod, gently press the foil along the edges and the pod is ready to use. Our quality foil provides an air-tight, well-sealed capsule that offers clean puncture holes and no foil tears.\n",
    "\n",
    "We hope this provides more clarity on our different options for Nespresso Vertuo machines. If you prefer one method over another, you can also purchase them on their own on our site under the section for Vertuo machines here (https://www.my-cap.com/collections/nespresso-vertuoline).\n",
    "\n",
    "Warm regards,\n",
    "Your My-Cap Team\"\"\"\n",
    "            },\n",
    "        ]\n",
    "    }"
   ]
  },
  {
   "cell_type": "code",
   "execution_count": 62,
   "id": "5854206f-8b9c-4c49-81d2-03932c64ba1f",
   "metadata": {},
   "outputs": [],
   "source": [
    "manual_json_str = json.dumps(manual_json)\n",
    "\n",
    "with open(output_file_name, \"a\") as f: \n",
    "    f.write(f\"{manual_json_str}\\n\")"
   ]
  }
 ],
 "metadata": {
  "kernelspec": {
   "display_name": "Python 3 (ipykernel)",
   "language": "python",
   "name": "python3"
  },
  "language_info": {
   "codemirror_mode": {
    "name": "ipython",
    "version": 3
   },
   "file_extension": ".py",
   "mimetype": "text/x-python",
   "name": "python",
   "nbconvert_exporter": "python",
   "pygments_lexer": "ipython3",
   "version": "3.9.18"
  }
 },
 "nbformat": 4,
 "nbformat_minor": 5
}
